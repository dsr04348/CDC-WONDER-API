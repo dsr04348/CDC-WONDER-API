{
 "cells": [
  {
   "cell_type": "code",
   "execution_count": 5,
   "id": "6fe64825-df01-4d8e-b520-1faba274e6ee",
   "metadata": {
    "tags": []
   },
   "outputs": [
    {
     "data": {
      "application/vnd.jupyter.widget-view+json": {
       "model_id": "a1e82fbb6b6b42d3ba4714f51069a8e9",
       "version_major": 2,
       "version_minor": 0
      },
      "text/plain": [
       "interactive(children=(Dropdown(description='Race:', options=('Black or African American', 'Hispanic or Latino'…"
      ]
     },
     "execution_count": 5,
     "metadata": {},
     "output_type": "execute_result"
    }
   ],
   "source": [
    "import pandas as pd\n",
    "import matplotlib.pyplot as plt\n",
    "import ipywidgets as widgets\n",
    "from IPython.display import display\n",
    "\n",
    "# Read the data from CSV file\n",
    "data = pd.read_csv(r'C:\\Users\\deepa\\Downloads\\CDC wonder merged and cleaned.csv')\n",
    "\n",
    "# Create dropdown widget for Race\n",
    "race_dropdown = widgets.Dropdown(options=data['Race'].unique(), description='Race:')\n",
    "\n",
    "# Define a function to update the plot based on dropdown selection\n",
    "def update_plot(race):\n",
    "    # Filter data for the selected race\n",
    "    race_data = data[data['Race'] == race]\n",
    "    \n",
    "    # Create subplots\n",
    "    fig, axes = plt.subplots(2, 2, figsize=(15, 10))\n",
    "    fig.suptitle(f'Death Trends for {race}', fontsize=16)\n",
    "\n",
    "    # Plot 1: Death trends among different age groups over years\n",
    "    ax1 = axes[0, 0]\n",
    "    race_data.pivot_table(index='Year', columns='Ten-Year Age Groups Code', values='Deaths', aggfunc='sum').plot(ax=ax1)\n",
    "    ax1.set_title('Death Trends among Age Groups')\n",
    "    ax1.set_xlabel('Year')\n",
    "    ax1.set_ylabel('Number of Deaths')\n",
    "\n",
    "    # Plot 2: Death trends among different causes of death over years\n",
    "    ax2 = axes[0, 1]\n",
    "    race_data.pivot_table(index='Year', columns='Cause of death', values='Deaths', aggfunc='sum').plot(ax=ax2)\n",
    "    ax2.set_title('Death Trends by Cause of Death')\n",
    "    ax2.set_xlabel('Year')\n",
    "    ax2.set_ylabel('Number of Deaths')\n",
    "\n",
    "    # Plot 3: Death trends among different genders over years\n",
    "    ax3 = axes[1, 0]\n",
    "    race_data.pivot_table(index='Year', columns='Gender', values='Deaths', aggfunc='sum').plot(ax=ax3)\n",
    "    ax3.set_title('Death Trends by Gender')\n",
    "    ax3.set_xlabel('Year')\n",
    "    ax3.set_ylabel('Number of Deaths')\n",
    "\n",
    "    # Hide the fourth subplot\n",
    "    axes[1, 1].axis('off')\n",
    "\n",
    "    plt.tight_layout()\n",
    "    plt.show()\n",
    "\n",
    "# Display the dropdown and plot\n",
    "widgets.interactive(update_plot, race=race_dropdown)\n",
    "\n",
    "\n"
   ]
  },
  {
   "cell_type": "code",
   "execution_count": 6,
   "id": "6f632bd0-4709-4614-89a9-86dc2d5d5851",
   "metadata": {
    "tags": []
   },
   "outputs": [
    {
     "data": {
      "application/vnd.jupyter.widget-view+json": {
       "model_id": "f4293d9ab62a49b19056b1bd1f45f104",
       "version_major": 2,
       "version_minor": 0
      },
      "text/plain": [
       "interactive(children=(Dropdown(description='Race:', options=('Black or African American', 'Hispanic or Latino'…"
      ]
     },
     "execution_count": 6,
     "metadata": {},
     "output_type": "execute_result"
    }
   ],
   "source": [
    "import pandas as pd\n",
    "import matplotlib.pyplot as plt\n",
    "import ipywidgets as widgets\n",
    "from IPython.display import display\n",
    "\n",
    "# Read the data from CSV file\n",
    "data = pd.read_csv(r'C:\\Users\\deepa\\Downloads\\CDC wonder merged and cleaned.csv')\n",
    "\n",
    "# Create dropdown widget for Race\n",
    "race_dropdown = widgets.Dropdown(options=data['Race'].unique(), description='Race:')\n",
    "\n",
    "# Define a function to update the plot based on dropdown selection\n",
    "def update_plot(race):\n",
    "    # Filter data for the selected race\n",
    "    race_data = data[data['Race'] == race]\n",
    "    \n",
    "    # Filter data for Central Indiana and Indiana\n",
    "    central_indiana_data = race_data[race_data['Region'] == 'Central Indiana']\n",
    "    indiana_data = race_data[race_data['Region'] == 'Indiana']\n",
    "    \n",
    "    # Create subplots\n",
    "    fig, axes = plt.subplots(1, 2, figsize=(15, 6), sharey=True)\n",
    "    fig.suptitle(f'Death Trends for {race}', fontsize=16)\n",
    "\n",
    "    # Plot 1: Stacked bar chart for Central Indiana\n",
    "    ax1 = axes[0]\n",
    "    central_indiana_data.pivot_table(index='Year', columns='Ten-Year Age Groups Code', values='Deaths', aggfunc='sum').plot(kind='bar', stacked=True, ax=ax1)\n",
    "    ax1.set_title('Central Indiana')\n",
    "    ax1.set_xlabel('Year')\n",
    "    ax1.set_ylabel('Number of Deaths')\n",
    "\n",
    "    # Plot 2: Stacked bar chart for Indiana\n",
    "    ax2 = axes[1]\n",
    "    indiana_data.pivot_table(index='Year', columns='Ten-Year Age Groups Code', values='Deaths', aggfunc='sum').plot(kind='bar', stacked=True, ax=ax2)\n",
    "    ax2.set_title('Indiana')\n",
    "    ax2.set_xlabel('Year')\n",
    "    ax2.set_ylabel('Number of Deaths')\n",
    "\n",
    "    plt.tight_layout()\n",
    "    plt.show()\n",
    "\n",
    "# Display the dropdown and plot\n",
    "widgets.interactive(update_plot, race=race_dropdown)\n"
   ]
  },
  {
   "cell_type": "code",
   "execution_count": 7,
   "id": "8d5e7387-d941-413a-af6e-507c67912899",
   "metadata": {
    "tags": []
   },
   "outputs": [
    {
     "data": {
      "application/vnd.jupyter.widget-view+json": {
       "model_id": "c80033caaaf445569617ddc89cad83a8",
       "version_major": 2,
       "version_minor": 0
      },
      "text/plain": [
       "interactive(children=(Dropdown(description='Race:', options=('Black or African American', 'Hispanic or Latino'…"
      ]
     },
     "execution_count": 7,
     "metadata": {},
     "output_type": "execute_result"
    }
   ],
   "source": [
    "import pandas as pd\n",
    "import matplotlib.pyplot as plt\n",
    "import seaborn as sns\n",
    "import ipywidgets as widgets\n",
    "from IPython.display import display\n",
    "\n",
    "# Read the data from CSV file\n",
    "data = pd.read_csv(r'C:\\Users\\deepa\\Downloads\\CDC wonder merged and cleaned.csv')\n",
    "\n",
    "# Create dropdown widget for Race\n",
    "race_dropdown = widgets.Dropdown(options=data['Race'].unique(), description='Race:')\n",
    "\n",
    "# Define a function to update the plot based on dropdown selection\n",
    "def update_plot(race):\n",
    "    # Filter data for the selected race\n",
    "    race_data = data[data['Race'] == race]\n",
    "    \n",
    "    # Pivot the data\n",
    "    pivot_data = race_data.pivot_table(index='Year', columns='Ten-Year Age Groups Code', values='Deaths', aggfunc='sum')\n",
    "    \n",
    "    # Plot heatmap\n",
    "    plt.figure(figsize=(12, 8))\n",
    "    sns.heatmap(pivot_data, cmap='YlGnBu', annot=True, fmt='g')\n",
    "    plt.title(f'Death Trends for {race}')\n",
    "    plt.xlabel('Age Group')\n",
    "    plt.ylabel('Year')\n",
    "    plt.xticks(rotation=45)\n",
    "    plt.tight_layout()\n",
    "    plt.show()\n",
    "\n",
    "# Display the dropdown and plot\n",
    "widgets.interactive(update_plot, race=race_dropdown)\n"
   ]
  },
  {
   "cell_type": "code",
   "execution_count": 8,
   "id": "dc1d4ac1-4161-4f54-a4e0-f6e7195a88b5",
   "metadata": {
    "tags": []
   },
   "outputs": [
    {
     "data": {
      "application/vnd.jupyter.widget-view+json": {
       "model_id": "d61b29f82b474333800068b02c76b5df",
       "version_major": 2,
       "version_minor": 0
      },
      "text/plain": [
       "interactive(children=(Dropdown(description='Race:', options=('Black or African American', 'Hispanic or Latino'…"
      ]
     },
     "execution_count": 8,
     "metadata": {},
     "output_type": "execute_result"
    }
   ],
   "source": [
    "import pandas as pd\n",
    "import matplotlib.pyplot as plt\n",
    "import ipywidgets as widgets\n",
    "from IPython.display import display\n",
    "\n",
    "# Read the data from CSV file\n",
    "data = pd.read_csv(r'C:\\Users\\deepa\\Downloads\\CDC wonder merged and cleaned.csv')\n",
    "\n",
    "# Create dropdown widget for Race\n",
    "race_dropdown = widgets.Dropdown(options=data['Race'].unique(), description='Race:')\n",
    "\n",
    "# Define a function to update the plot based on dropdown selection\n",
    "def update_plot(race):\n",
    "    # Filter data for the selected race\n",
    "    race_data = data[data['Race'] == race]\n",
    "    \n",
    "    # Group data by year and category and sum up the deaths\n",
    "    grouped_data = race_data.groupby(['Year', 'Ten-Year Age Groups Code'])['Deaths'].sum().unstack()\n",
    "    \n",
    "    # Plot grouped bar chart\n",
    "    grouped_data.plot(kind='bar', figsize=(12, 8))\n",
    "    plt.title(f'Death Trends for {race}')\n",
    "    plt.xlabel('Year')\n",
    "    plt.ylabel('Number of Deaths')\n",
    "    plt.xticks(rotation=45)\n",
    "    plt.legend(title='Age Group')\n",
    "    plt.tight_layout()\n",
    "    plt.show()\n",
    "\n",
    "# Display the dropdown and plot\n",
    "widgets.interactive(update_plot, race=race_dropdown)\n"
   ]
  },
  {
   "cell_type": "code",
   "execution_count": 9,
   "id": "d8b1e6bc-c9cf-469e-bf10-23767503562f",
   "metadata": {
    "tags": []
   },
   "outputs": [
    {
     "data": {
      "application/vnd.jupyter.widget-view+json": {
       "model_id": "101a3f3d851a408f9be0e1fd76eaf173",
       "version_major": 2,
       "version_minor": 0
      },
      "text/plain": [
       "interactive(children=(Dropdown(description='Race:', options=('Black or African American', 'Hispanic or Latino'…"
      ]
     },
     "execution_count": 9,
     "metadata": {},
     "output_type": "execute_result"
    }
   ],
   "source": [
    "import pandas as pd\n",
    "import matplotlib.pyplot as plt\n",
    "import ipywidgets as widgets\n",
    "from IPython.display import display\n",
    "\n",
    "# Read the data from CSV file\n",
    "data = pd.read_csv(r'C:\\Users\\deepa\\Downloads\\CDC wonder merged and cleaned.csv')\n",
    "\n",
    "# Create dropdown widget for Race\n",
    "race_dropdown = widgets.Dropdown(options=data['Race'].unique(), description='Race:')\n",
    "\n",
    "# Define a function to update the plot based on dropdown selection\n",
    "def update_plot(race):\n",
    "    # Filter data for the selected race\n",
    "    race_data = data[data['Race'] == race]\n",
    "    \n",
    "    # Pivot the data\n",
    "    pivot_data = race_data.pivot_table(index='Year', columns='Ten-Year Age Groups Code', values='Deaths', aggfunc='sum')\n",
    "    \n",
    "    # Plot stacked area chart\n",
    "    pivot_data.plot(kind='area', stacked=True, figsize=(12, 8))\n",
    "    plt.title(f'Stacked Area Chart for {race}')\n",
    "    plt.xlabel('Year')\n",
    "    plt.ylabel('Number of Deaths')\n",
    "    plt.xticks(rotation=45)\n",
    "    plt.legend(title='Age Group', bbox_to_anchor=(1.05, 1), loc='upper left')\n",
    "    plt.tight_layout()\n",
    "    plt.show()\n",
    "\n",
    "# Display the dropdown and plot\n",
    "widgets.interactive(update_plot, race=race_dropdown)\n"
   ]
  }
 ],
 "metadata": {
  "kernelspec": {
   "display_name": "Python 3 (ipykernel)",
   "language": "python",
   "name": "python3"
  },
  "language_info": {
   "codemirror_mode": {
    "name": "ipython",
    "version": 3
   },
   "file_extension": ".py",
   "mimetype": "text/x-python",
   "name": "python",
   "nbconvert_exporter": "python",
   "pygments_lexer": "ipython3",
   "version": "3.11.4"
  }
 },
 "nbformat": 4,
 "nbformat_minor": 5
}
